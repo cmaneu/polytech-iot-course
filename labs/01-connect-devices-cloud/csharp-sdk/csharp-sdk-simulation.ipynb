{
 "cells": [
  {
   "cell_type": "markdown",
   "metadata": {},
   "source": [
    "# Simulate an IoT device and send messages to Azure IoT Hub"
   ]
  },
  {
   "cell_type": "code",
   "execution_count": null,
   "metadata": {
    "dotnet_interactive": {
     "language": "csharp"
    }
   },
   "outputs": [],
   "source": [
    "#r \"nuget:Microsoft.Azure.Devices.Client\""
   ]
  },
  {
   "cell_type": "code",
   "execution_count": null,
   "metadata": {
    "dotnet_interactive": {
     "language": "csharp"
    }
   },
   "outputs": [],
   "source": [
    "using Microsoft.Azure.Devices.Client;\n",
    "using System.Text;\n",
    "using System.Text.Json;"
   ]
  },
  {
   "cell_type": "code",
   "execution_count": null,
   "metadata": {
    "dotnet_interactive": {
     "language": "csharp"
    }
   },
   "outputs": [],
   "source": [
    "string ConnectionString = \"{Your device connection string here}\";"
   ]
  },
  {
   "cell_type": "code",
   "execution_count": null,
   "metadata": {
    "dotnet_interactive": {
     "language": "csharp"
    }
   },
   "outputs": [
    {
     "name": "stdout",
     "output_type": "stream",
     "text": [
      "1/11/2022 9:25:15 PM > Sending message: {\"temperature\":29.702904887491144,\"humidity\":73.05614455629194,\"ts\":\"1/11/2022 9:25:15 PM\"}\r\n",
      "1/11/2022 9:25:16 PM > Sending message: {\"temperature\":26.33752817225078,\"humidity\":69.53037220356579,\"ts\":\"1/11/2022 9:25:16 PM\"}\r\n",
      "1/11/2022 9:25:17 PM > Sending message: {\"temperature\":31.015691920511557,\"humidity\":73.18494808569088,\"ts\":\"1/11/2022 9:25:17 PM\"}\r\n",
      "1/11/2022 9:25:18 PM > Sending message: {\"temperature\":25.801009781950214,\"humidity\":79.09863120034667,\"ts\":\"1/11/2022 9:25:18 PM\"}\r\n",
      "1/11/2022 9:25:19 PM > Sending message: {\"temperature\":24.255678612911257,\"humidity\":71.74484199357431,\"ts\":\"1/11/2022 9:25:19 PM\"}\r\n",
      "1/11/2022 9:25:20 PM > Sending message: {\"temperature\":34.376137686656875,\"humidity\":65.62849626006157,\"ts\":\"1/11/2022 9:25:20 PM\"}\r\n",
      "1/11/2022 9:25:21 PM > Sending message: {\"temperature\":31.094811827818248,\"humidity\":72.9577051208252,\"ts\":\"1/11/2022 9:25:21 PM\"}\r\n",
      "1/11/2022 9:25:22 PM > Sending message: {\"temperature\":28.34970877248202,\"humidity\":79.37709203035713,\"ts\":\"1/11/2022 9:25:22 PM\"}\r\n",
      "1/11/2022 9:25:23 PM > Sending message: {\"temperature\":20.311886127133445,\"humidity\":73.04754899318607,\"ts\":\"1/11/2022 9:25:23 PM\"}\r\n",
      "1/11/2022 9:25:24 PM > Sending message: {\"temperature\":25.709179246209686,\"humidity\":63.14500281810873,\"ts\":\"1/11/2022 9:25:24 PM\"}\r\n"
     ]
    }
   ],
   "source": [
    "// Setup IoT Client\n",
    "var deviceClient = DeviceClient.CreateFromConnectionString(ConnectionString, TransportType.Mqtt);\n",
    "\n",
    "// Send messages\n",
    "double minTemperature = 20;\n",
    "double minHumidity = 60;\n",
    "var rand = new Random();\n",
    "\n",
    "for (int i = 0; i < 10; i++)\n",
    "{\n",
    "    double currentTemperature = minTemperature + rand.NextDouble() * 15;\n",
    "    double currentHumidity = minHumidity + rand.NextDouble() * 20;\n",
    "\n",
    "    // Create JSON message\n",
    "    string messageBody = JsonSerializer.Serialize(\n",
    "        new\n",
    "        {\n",
    "            temperature = currentTemperature,\n",
    "            humidity = currentHumidity,\n",
    "            ts = DateTime.Now.ToString(\"G\")\n",
    "        });\n",
    "        \n",
    "    using var message = new Message(Encoding.ASCII.GetBytes(messageBody))\n",
    "    {\n",
    "        ContentType = \"application/json\",\n",
    "        ContentEncoding = \"utf-8\",\n",
    "    };\n",
    "\n",
    "    // Add a custom application property to the message.\n",
    "    // An IoT hub can filter on these properties without access to the message body.\n",
    "    message.Properties.Add(\"temperatureAlert\", (currentTemperature > 30) ? \"true\" : \"false\");\n",
    "\n",
    "    // Send the telemetry message\n",
    "    await deviceClient.SendEventAsync(message);\n",
    "    Console.WriteLine($\"{DateTime.Now} > Sending message: {messageBody}\");\n",
    "\n",
    "    await Task.Delay(1000);\n",
    "}\n"
   ]
  },
  {
   "cell_type": "code",
   "execution_count": null,
   "metadata": {
    "dotnet_interactive": {
     "language": "csharp"
    }
   },
   "outputs": [],
   "source": []
  }
 ],
 "metadata": {
  "kernelspec": {
   "display_name": ".NET (C#)",
   "language": "C#",
   "name": ".net-csharp"
  },
  "language_info": {
   "name": "C#"
  }
 },
 "nbformat": 4,
 "nbformat_minor": 2
}
